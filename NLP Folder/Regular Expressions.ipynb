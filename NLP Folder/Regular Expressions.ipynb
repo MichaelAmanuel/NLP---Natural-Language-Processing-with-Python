{
 "cells": [
  {
   "cell_type": "code",
   "execution_count": 2,
   "id": "4d29ce4a",
   "metadata": {},
   "outputs": [],
   "source": [
    "text = \"The phone number of the agent is 240-853-5987. Call soon!\""
   ]
  },
  {
   "cell_type": "code",
   "execution_count": 3,
   "id": "221687b9",
   "metadata": {},
   "outputs": [
    {
     "data": {
      "text/plain": [
       "True"
      ]
     },
     "execution_count": 3,
     "metadata": {},
     "output_type": "execute_result"
    }
   ],
   "source": [
    "\"phone\" in text"
   ]
  },
  {
   "cell_type": "code",
   "execution_count": 4,
   "id": "48d4b75c",
   "metadata": {},
   "outputs": [],
   "source": [
    "import re"
   ]
  },
  {
   "cell_type": "code",
   "execution_count": 5,
   "id": "cb02f827",
   "metadata": {},
   "outputs": [],
   "source": [
    "pattern = 'phone'"
   ]
  },
  {
   "cell_type": "code",
   "execution_count": 6,
   "id": "29f0766a",
   "metadata": {},
   "outputs": [
    {
     "data": {
      "text/plain": [
       "<re.Match object; span=(4, 9), match='phone'>"
      ]
     },
     "execution_count": 6,
     "metadata": {},
     "output_type": "execute_result"
    }
   ],
   "source": [
    "re.search(pattern, text)"
   ]
  },
  {
   "cell_type": "code",
   "execution_count": 7,
   "id": "17005e1f",
   "metadata": {},
   "outputs": [],
   "source": [
    "my_match = re.search(pattern, text)"
   ]
  },
  {
   "cell_type": "code",
   "execution_count": 8,
   "id": "967a6bdd",
   "metadata": {},
   "outputs": [
    {
     "data": {
      "text/plain": [
       "(4, 9)"
      ]
     },
     "execution_count": 8,
     "metadata": {},
     "output_type": "execute_result"
    }
   ],
   "source": [
    "my_match.span()"
   ]
  },
  {
   "cell_type": "code",
   "execution_count": 9,
   "id": "8509c64e",
   "metadata": {},
   "outputs": [
    {
     "data": {
      "text/plain": [
       "4"
      ]
     },
     "execution_count": 9,
     "metadata": {},
     "output_type": "execute_result"
    }
   ],
   "source": [
    "my_match.start()"
   ]
  },
  {
   "cell_type": "code",
   "execution_count": 10,
   "id": "63ab6c6d",
   "metadata": {},
   "outputs": [
    {
     "data": {
      "text/plain": [
       "9"
      ]
     },
     "execution_count": 10,
     "metadata": {},
     "output_type": "execute_result"
    }
   ],
   "source": [
    "my_match.end()"
   ]
  },
  {
   "cell_type": "code",
   "execution_count": 11,
   "id": "8d2cce0a",
   "metadata": {},
   "outputs": [],
   "source": [
    "text = \"My phone is a new phone\""
   ]
  },
  {
   "cell_type": "code",
   "execution_count": 12,
   "id": "a7a841e6",
   "metadata": {},
   "outputs": [],
   "source": [
    "match = re.search(pattern, text)"
   ]
  },
  {
   "cell_type": "code",
   "execution_count": 13,
   "id": "ddb9ca22",
   "metadata": {},
   "outputs": [
    {
     "data": {
      "text/plain": [
       "(3, 8)"
      ]
     },
     "execution_count": 13,
     "metadata": {},
     "output_type": "execute_result"
    }
   ],
   "source": [
    "match.span()"
   ]
  },
  {
   "cell_type": "code",
   "execution_count": 15,
   "id": "97b1c4bc",
   "metadata": {},
   "outputs": [],
   "source": [
    "all_matchs = re.findall(\"phone\", text)"
   ]
  },
  {
   "cell_type": "code",
   "execution_count": 16,
   "id": "f128a39f",
   "metadata": {},
   "outputs": [
    {
     "data": {
      "text/plain": [
       "2"
      ]
     },
     "execution_count": 16,
     "metadata": {},
     "output_type": "execute_result"
    }
   ],
   "source": [
    "len(all_matchs)"
   ]
  },
  {
   "cell_type": "code",
   "execution_count": 17,
   "id": "aa854928",
   "metadata": {},
   "outputs": [
    {
     "data": {
      "text/plain": [
       "['phone', 'phone']"
      ]
     },
     "execution_count": 17,
     "metadata": {},
     "output_type": "execute_result"
    }
   ],
   "source": [
    "all_matchs"
   ]
  },
  {
   "cell_type": "code",
   "execution_count": 20,
   "id": "24bbeaf2",
   "metadata": {},
   "outputs": [
    {
     "name": "stdout",
     "output_type": "stream",
     "text": [
      "(3, 8)\n",
      "(18, 23)\n"
     ]
    }
   ],
   "source": [
    "for match in re.finditer('phone', text):\n",
    "    print(match.span())"
   ]
  },
  {
   "cell_type": "code",
   "execution_count": 25,
   "id": "3d28f34e",
   "metadata": {},
   "outputs": [
    {
     "name": "stdout",
     "output_type": "stream",
     "text": [
      "(3, 8)\n",
      "(18, 23)\n"
     ]
    }
   ],
   "source": [
    "for match in re.finditer(pattern, text):\n",
    "    print(match.span())"
   ]
  },
  {
   "cell_type": "code",
   "execution_count": 56,
   "id": "59a096b9",
   "metadata": {},
   "outputs": [],
   "source": [
    "text_num = 'My telephone number is 240-853-5987'"
   ]
  },
  {
   "cell_type": "code",
   "execution_count": 57,
   "id": "f2ae2dc9",
   "metadata": {},
   "outputs": [
    {
     "data": {
      "text/plain": [
       "'My telephone number is 240-853-5987'"
      ]
     },
     "execution_count": 57,
     "metadata": {},
     "output_type": "execute_result"
    }
   ],
   "source": [
    "text_num"
   ]
  },
  {
   "cell_type": "code",
   "execution_count": 58,
   "id": "4cb66aee",
   "metadata": {},
   "outputs": [],
   "source": [
    "pattern_num = r'\\d\\d\\d-\\d\\d\\d-\\d\\d\\d\\d'"
   ]
  },
  {
   "cell_type": "code",
   "execution_count": 59,
   "id": "f64170f3",
   "metadata": {},
   "outputs": [],
   "source": [
    "phone_number = re.search(pattern_num, text_num)"
   ]
  },
  {
   "cell_type": "code",
   "execution_count": 60,
   "id": "bd768792",
   "metadata": {},
   "outputs": [
    {
     "data": {
      "text/plain": [
       "<re.Match object; span=(23, 35), match='240-853-5987'>"
      ]
     },
     "execution_count": 60,
     "metadata": {},
     "output_type": "execute_result"
    }
   ],
   "source": [
    "phone_number"
   ]
  },
  {
   "cell_type": "code",
   "execution_count": 61,
   "id": "b5ece98d",
   "metadata": {},
   "outputs": [
    {
     "data": {
      "text/plain": [
       "'240-853-5987'"
      ]
     },
     "execution_count": 61,
     "metadata": {},
     "output_type": "execute_result"
    }
   ],
   "source": [
    "phone_number.group()"
   ]
  },
  {
   "cell_type": "code",
   "execution_count": 76,
   "id": "fe62ae47",
   "metadata": {},
   "outputs": [],
   "source": [
    "patterns = r\"\\d{3}-\\d{3}-\\d{4}\""
   ]
  },
  {
   "cell_type": "code",
   "execution_count": 77,
   "id": "f428cb03",
   "metadata": {},
   "outputs": [],
   "source": [
    "phone_num = re.search(patterns, text_num)"
   ]
  },
  {
   "cell_type": "code",
   "execution_count": 78,
   "id": "1e4469f9",
   "metadata": {},
   "outputs": [
    {
     "data": {
      "text/plain": [
       "'240-853-5987'"
      ]
     },
     "execution_count": 78,
     "metadata": {},
     "output_type": "execute_result"
    }
   ],
   "source": [
    "phone_num.group()"
   ]
  },
  {
   "cell_type": "code",
   "execution_count": 79,
   "id": "418c7c9d",
   "metadata": {},
   "outputs": [],
   "source": [
    "patternss = r\"(\\d{3}-)(\\d{3}-)(\\d{4})\""
   ]
  },
  {
   "cell_type": "code",
   "execution_count": 81,
   "id": "00f4eac4",
   "metadata": {},
   "outputs": [],
   "source": [
    "phone_nums = re.search(patternss, text_num)"
   ]
  },
  {
   "cell_type": "code",
   "execution_count": 82,
   "id": "8b0e0cc9",
   "metadata": {},
   "outputs": [
    {
     "data": {
      "text/plain": [
       "<re.Match object; span=(23, 35), match='240-853-5987'>"
      ]
     },
     "execution_count": 82,
     "metadata": {},
     "output_type": "execute_result"
    }
   ],
   "source": [
    "phone_nums"
   ]
  },
  {
   "cell_type": "code",
   "execution_count": 83,
   "id": "12672d29",
   "metadata": {},
   "outputs": [
    {
     "data": {
      "text/plain": [
       "'240-853-5987'"
      ]
     },
     "execution_count": 83,
     "metadata": {},
     "output_type": "execute_result"
    }
   ],
   "source": [
    "phone_nums.group()"
   ]
  },
  {
   "cell_type": "code",
   "execution_count": 84,
   "id": "cddbf488",
   "metadata": {},
   "outputs": [
    {
     "data": {
      "text/plain": [
       "'240-'"
      ]
     },
     "execution_count": 84,
     "metadata": {},
     "output_type": "execute_result"
    }
   ],
   "source": [
    "phone_nums.group(1)"
   ]
  },
  {
   "cell_type": "code",
   "execution_count": 85,
   "id": "197d073c",
   "metadata": {},
   "outputs": [
    {
     "data": {
      "text/plain": [
       "<re.Match object; span=(5, 10), match='woman'>"
      ]
     },
     "execution_count": 85,
     "metadata": {},
     "output_type": "execute_result"
    }
   ],
   "source": [
    "re.search(r\"man|woman\",\"This woman was here\")"
   ]
  },
  {
   "cell_type": "code",
   "execution_count": 86,
   "id": "4b3cffb2",
   "metadata": {},
   "outputs": [
    {
     "data": {
      "text/plain": [
       "<re.Match object; span=(5, 8), match='man'>"
      ]
     },
     "execution_count": 86,
     "metadata": {},
     "output_type": "execute_result"
    }
   ],
   "source": [
    "re.search(r\"man|woman\",\"This man was here\")"
   ]
  },
  {
   "cell_type": "code",
   "execution_count": 88,
   "id": "94371397",
   "metadata": {},
   "outputs": [
    {
     "data": {
      "text/plain": [
       "['cat', 'hat', 'sat', 'lat']"
      ]
     },
     "execution_count": 88,
     "metadata": {},
     "output_type": "execute_result"
    }
   ],
   "source": [
    "re.findall(r\".at\", \"The cat in the hat sat splat\")"
   ]
  },
  {
   "cell_type": "code",
   "execution_count": 89,
   "id": "5ebd4495",
   "metadata": {},
   "outputs": [
    {
     "data": {
      "text/plain": [
       "['at', ' t', 'at', 'at', 'at']"
      ]
     },
     "execution_count": 89,
     "metadata": {},
     "output_type": "execute_result"
    }
   ],
   "source": [
    "re.findall(r\".t\", \"The cat in the hat sat splat\")"
   ]
  },
  {
   "cell_type": "code",
   "execution_count": 90,
   "id": "28a8f0d6",
   "metadata": {},
   "outputs": [
    {
     "data": {
      "text/plain": [
       "[' cat', ' hat', ' sat', 'plat']"
      ]
     },
     "execution_count": 90,
     "metadata": {},
     "output_type": "execute_result"
    }
   ],
   "source": [
    "re.findall(r\"..at\", \"The cat in the hat sat splat\")"
   ]
  },
  {
   "cell_type": "code",
   "execution_count": 92,
   "id": "65972c83",
   "metadata": {},
   "outputs": [
    {
     "data": {
      "text/plain": [
       "['at', 'at', 'at', 'at']"
      ]
     },
     "execution_count": 92,
     "metadata": {},
     "output_type": "execute_result"
    }
   ],
   "source": [
    "re.findall(r\"at\", \"The cat in the hat sat splat\")"
   ]
  },
  {
   "cell_type": "code",
   "execution_count": 93,
   "id": "3be8f95f",
   "metadata": {},
   "outputs": [
    {
     "data": {
      "text/plain": [
       "['2']"
      ]
     },
     "execution_count": 93,
     "metadata": {},
     "output_type": "execute_result"
    }
   ],
   "source": [
    "re.findall(r\"\\d$\", \"This ends with a number 2\")"
   ]
  },
  {
   "cell_type": "code",
   "execution_count": 95,
   "id": "97e01cdf",
   "metadata": {},
   "outputs": [
    {
     "data": {
      "text/plain": [
       "['7']"
      ]
     },
     "execution_count": 95,
     "metadata": {},
     "output_type": "execute_result"
    }
   ],
   "source": [
    "re.findall(r\"\\d$\", \"This ends with a number MIKE1987\")"
   ]
  },
  {
   "cell_type": "code",
   "execution_count": 103,
   "id": "037130f8",
   "metadata": {},
   "outputs": [
    {
     "data": {
      "text/plain": [
       "['1']"
      ]
     },
     "execution_count": 103,
     "metadata": {},
     "output_type": "execute_result"
    }
   ],
   "source": [
    "re.findall(r\"^\\d\", \"1 This ends with a number.\")"
   ]
  },
  {
   "cell_type": "code",
   "execution_count": 104,
   "id": "960c4786",
   "metadata": {},
   "outputs": [],
   "source": [
    "phrese = \"Three are 3 numbers 34 inside 5 this sentense\""
   ]
  },
  {
   "cell_type": "code",
   "execution_count": 105,
   "id": "96a4bf46",
   "metadata": {},
   "outputs": [
    {
     "data": {
      "text/plain": [
       "['T',\n",
       " 'h',\n",
       " 'r',\n",
       " 'e',\n",
       " 'e',\n",
       " ' ',\n",
       " 'a',\n",
       " 'r',\n",
       " 'e',\n",
       " ' ',\n",
       " ' ',\n",
       " 'n',\n",
       " 'u',\n",
       " 'm',\n",
       " 'b',\n",
       " 'e',\n",
       " 'r',\n",
       " 's',\n",
       " ' ',\n",
       " ' ',\n",
       " 'i',\n",
       " 'n',\n",
       " 's',\n",
       " 'i',\n",
       " 'd',\n",
       " 'e',\n",
       " ' ',\n",
       " ' ',\n",
       " 't',\n",
       " 'h',\n",
       " 'i',\n",
       " 's',\n",
       " ' ',\n",
       " 's',\n",
       " 'e',\n",
       " 'n',\n",
       " 't',\n",
       " 'e',\n",
       " 'n',\n",
       " 's',\n",
       " 'e']"
      ]
     },
     "execution_count": 105,
     "metadata": {},
     "output_type": "execute_result"
    }
   ],
   "source": [
    "re.findall(r\"[^\\d]\", phrese)"
   ]
  },
  {
   "cell_type": "code",
   "execution_count": 106,
   "id": "4b9c644c",
   "metadata": {},
   "outputs": [
    {
     "data": {
      "text/plain": [
       "['Three are ', ' numbers ', ' inside ', ' this sentense']"
      ]
     },
     "execution_count": 106,
     "metadata": {},
     "output_type": "execute_result"
    }
   ],
   "source": [
    "re.findall(r\"[^\\d]+\", phrese)"
   ]
  },
  {
   "cell_type": "code",
   "execution_count": 107,
   "id": "b3315d14",
   "metadata": {},
   "outputs": [],
   "source": [
    "test_phrese = \"This is string! but it has punctation. How to remove it\""
   ]
  },
  {
   "cell_type": "code",
   "execution_count": 108,
   "id": "46969170",
   "metadata": {},
   "outputs": [
    {
     "data": {
      "text/plain": [
       "['This is string', ' but it has punctation', ' How to remove it']"
      ]
     },
     "execution_count": 108,
     "metadata": {},
     "output_type": "execute_result"
    }
   ],
   "source": [
    "re.findall(r\"[^!.?]+\", test_phrese)"
   ]
  },
  {
   "cell_type": "code",
   "execution_count": 109,
   "id": "437e070a",
   "metadata": {},
   "outputs": [],
   "source": [
    "my_list = re.findall(r\"[^!.?]+\", test_phrese)"
   ]
  },
  {
   "cell_type": "code",
   "execution_count": 110,
   "id": "194f99a7",
   "metadata": {},
   "outputs": [
    {
     "data": {
      "text/plain": [
       "['This is string', ' but it has punctation', ' How to remove it']"
      ]
     },
     "execution_count": 110,
     "metadata": {},
     "output_type": "execute_result"
    }
   ],
   "source": [
    "my_list"
   ]
  },
  {
   "cell_type": "code",
   "execution_count": 112,
   "id": "60e12ddc",
   "metadata": {},
   "outputs": [
    {
     "data": {
      "text/plain": [
       "'This is string  but it has punctation  How to remove it'"
      ]
     },
     "execution_count": 112,
     "metadata": {},
     "output_type": "execute_result"
    }
   ],
   "source": [
    "\" \".join(my_list)"
   ]
  },
  {
   "cell_type": "code",
   "execution_count": 113,
   "id": "52de66e0",
   "metadata": {},
   "outputs": [],
   "source": [
    "text = \"Only find the hyphon-words.Were are the long-ish dash words?\""
   ]
  },
  {
   "cell_type": "code",
   "execution_count": 115,
   "id": "bd6d984b",
   "metadata": {},
   "outputs": [
    {
     "data": {
      "text/plain": [
       "['Only',\n",
       " 'find',\n",
       " 'the',\n",
       " 'hyphon',\n",
       " 'words',\n",
       " 'Were',\n",
       " 'are',\n",
       " 'the',\n",
       " 'long',\n",
       " 'ish',\n",
       " 'dash',\n",
       " 'words']"
      ]
     },
     "execution_count": 115,
     "metadata": {},
     "output_type": "execute_result"
    }
   ],
   "source": [
    "re.findall(r\"[\\w]+\", text)"
   ]
  },
  {
   "cell_type": "code",
   "execution_count": 116,
   "id": "82ad59a1",
   "metadata": {},
   "outputs": [
    {
     "data": {
      "text/plain": [
       "['hyphon-words', 'long-ish']"
      ]
     },
     "execution_count": 116,
     "metadata": {},
     "output_type": "execute_result"
    }
   ],
   "source": [
    "re.findall(r\"[\\w]+-[\\w]+\", text)"
   ]
  },
  {
   "cell_type": "code",
   "execution_count": null,
   "id": "7abdce06",
   "metadata": {},
   "outputs": [],
   "source": []
  }
 ],
 "metadata": {
  "kernelspec": {
   "display_name": "Python 3 (ipykernel)",
   "language": "python",
   "name": "python3"
  },
  "language_info": {
   "codemirror_mode": {
    "name": "ipython",
    "version": 3
   },
   "file_extension": ".py",
   "mimetype": "text/x-python",
   "name": "python",
   "nbconvert_exporter": "python",
   "pygments_lexer": "ipython3",
   "version": "3.7.16"
  }
 },
 "nbformat": 4,
 "nbformat_minor": 5
}

{
 "cells": [
  {
   "cell_type": "code",
   "execution_count": 1,
   "id": "6f208c11",
   "metadata": {},
   "outputs": [],
   "source": [
    "import spacy"
   ]
  },
  {
   "cell_type": "code",
   "execution_count": 2,
   "id": "f4f56635",
   "metadata": {},
   "outputs": [],
   "source": [
    "nlp = spacy.load('en_core_web_sm')"
   ]
  },
  {
   "cell_type": "code",
   "execution_count": 3,
   "id": "ef2cd1cf",
   "metadata": {},
   "outputs": [],
   "source": [
    "doc = nlp(u\"The quick brown fox jumped over the lazy dog's back.\")"
   ]
  },
  {
   "cell_type": "code",
   "execution_count": 4,
   "id": "7191b936",
   "metadata": {},
   "outputs": [
    {
     "name": "stdout",
     "output_type": "stream",
     "text": [
      "The quick brown fox jumped over the lazy dog's back.\n"
     ]
    }
   ],
   "source": [
    "print(doc.text)"
   ]
  },
  {
   "cell_type": "code",
   "execution_count": 9,
   "id": "54c2d173",
   "metadata": {},
   "outputs": [
    {
     "name": "stdout",
     "output_type": "stream",
     "text": [
      "jumped\n",
      "jumped\n",
      "VERB\n",
      "17109001835818727656\n",
      "VBD\n"
     ]
    }
   ],
   "source": [
    "print(doc[4])\n",
    "print(doc[4].text)\n",
    "print(doc[4].pos_)\n",
    "print(doc[4].tag)\n",
    "print(doc[4].tag_)"
   ]
  },
  {
   "cell_type": "code",
   "execution_count": 12,
   "id": "51f5e1c8",
   "metadata": {},
   "outputs": [
    {
     "name": "stdout",
     "output_type": "stream",
     "text": [
      "DT\n",
      "JJ\n",
      "JJ\n",
      "NN\n",
      "VBD\n",
      "IN\n",
      "DT\n",
      "JJ\n",
      "NN\n",
      "POS\n",
      "NN\n",
      ".\n"
     ]
    }
   ],
   "source": [
    "for token in doc:\n",
    "    print(token.tag_)"
   ]
  },
  {
   "cell_type": "code",
   "execution_count": 19,
   "id": "688edb1a",
   "metadata": {},
   "outputs": [
    {
     "name": "stdout",
     "output_type": "stream",
     "text": [
      "The        DET\n",
      "quick      ADJ\n",
      "brown      ADJ\n",
      "fox        NOUN\n",
      "jumped     VERB\n",
      "over       ADP\n",
      "the        DET\n",
      "lazy       ADJ\n",
      "dog        NOUN\n",
      "'s         PART\n",
      "back       NOUN\n",
      ".          PUNCT\n"
     ]
    }
   ],
   "source": [
    "for token in doc:\n",
    "    print(f\"{token.text:{10}} {token.pos_}\")"
   ]
  },
  {
   "cell_type": "code",
   "execution_count": 22,
   "id": "7de7d82d",
   "metadata": {},
   "outputs": [
    {
     "name": "stdout",
     "output_type": "stream",
     "text": [
      "DT\n",
      "JJ\n",
      "JJ\n",
      "NN\n",
      "VBD\n",
      "IN\n",
      "DT\n",
      "JJ\n",
      "NN\n",
      "POS\n",
      "NN\n",
      ".\n"
     ]
    }
   ],
   "source": [
    "for token in doc:\n",
    "    print(token.tag_)"
   ]
  },
  {
   "cell_type": "code",
   "execution_count": 11,
   "id": "f637f8ea",
   "metadata": {},
   "outputs": [
    {
     "name": "stdout",
     "output_type": "stream",
     "text": [
      "The DET DT None\n",
      "quick ADJ JJ None\n",
      "brown ADJ JJ None\n",
      "fox NOUN NN None\n",
      "jumped VERB VBD None\n",
      "over ADP IN None\n",
      "the DET DT None\n",
      "lazy ADJ JJ None\n",
      "dog NOUN NN None\n",
      "'s PART POS None\n",
      "back NOUN NN None\n",
      ". PUNCT . None\n"
     ]
    }
   ],
   "source": [
    "for token in doc:\n",
    "    print(f\"{token.text} {token.pos_} {token.tag_} {spacy.explain(token.tag)}\")"
   ]
  },
  {
   "cell_type": "code",
   "execution_count": 23,
   "id": "56ad0ebf",
   "metadata": {},
   "outputs": [
    {
     "name": "stdout",
     "output_type": "stream",
     "text": [
      "determiner\n",
      "adjective\n",
      "adjective\n",
      "noun, singular or mass\n",
      "verb, past tense\n",
      "conjunction, subordinating or preposition\n",
      "determiner\n",
      "adjective\n",
      "noun, singular or mass\n",
      "possessive ending\n",
      "noun, singular or mass\n",
      "punctuation mark, sentence closer\n"
     ]
    }
   ],
   "source": [
    "for token in doc:\n",
    "    print(spacy.explain(token.tag_))"
   ]
  },
  {
   "cell_type": "code",
   "execution_count": null,
   "id": "2c76aa24",
   "metadata": {},
   "outputs": [],
   "source": []
  },
  {
   "cell_type": "code",
   "execution_count": 20,
   "id": "bd58c7ed",
   "metadata": {},
   "outputs": [
    {
     "name": "stdout",
     "output_type": "stream",
     "text": [
      "The        DET        DT         determiner\n",
      "quick      ADJ        JJ         adjective\n",
      "brown      ADJ        JJ         adjective\n",
      "fox        NOUN       NN         noun, singular or mass\n",
      "jumped     VERB       VBD        verb, past tense\n",
      "over       ADP        IN         conjunction, subordinating or preposition\n",
      "the        DET        DT         determiner\n",
      "lazy       ADJ        JJ         adjective\n",
      "dog        NOUN       NN         noun, singular or mass\n",
      "'s         PART       POS        possessive ending\n",
      "back       NOUN       NN         noun, singular or mass\n",
      ".          PUNCT      .          punctuation mark, sentence closer\n"
     ]
    }
   ],
   "source": [
    "for token in doc:\n",
    "    print(f\"{token.text:{10}} {token.pos_:{10}} {token.tag_:{10}} {spacy.explain(token.tag_)}\")"
   ]
  },
  {
   "cell_type": "code",
   "execution_count": 27,
   "id": "5825ea0e",
   "metadata": {},
   "outputs": [
    {
     "name": "stdout",
     "output_type": "stream",
     "text": [
      "determiner determiner\n",
      "adjective  adjective\n",
      "adjective  adjective\n",
      "noun       noun, singular or mass\n",
      "verb       verb, past tense\n",
      "adposition conjunction, subordinating or preposition\n",
      "determiner determiner\n",
      "adjective  adjective\n",
      "noun       noun, singular or mass\n",
      "particle   possessive ending\n",
      "noun       noun, singular or mass\n",
      "punctuation punctuation mark, sentence closer\n"
     ]
    }
   ],
   "source": [
    "for token in doc:\n",
    "    print(f\"{spacy.explain(token.pos_):{10}} {spacy.explain(token.tag_)}\")"
   ]
  },
  {
   "cell_type": "code",
   "execution_count": 28,
   "id": "824358a6",
   "metadata": {},
   "outputs": [],
   "source": [
    "doc = nlp(u'I read books on NLP.')"
   ]
  },
  {
   "cell_type": "code",
   "execution_count": 32,
   "id": "f705b4c4",
   "metadata": {},
   "outputs": [],
   "source": [
    "r = doc[1]"
   ]
  },
  {
   "cell_type": "code",
   "execution_count": 34,
   "id": "b38ff563",
   "metadata": {},
   "outputs": [
    {
     "data": {
      "text/plain": [
       "read"
      ]
     },
     "execution_count": 34,
     "metadata": {},
     "output_type": "execute_result"
    }
   ],
   "source": [
    "r"
   ]
  },
  {
   "cell_type": "code",
   "execution_count": 35,
   "id": "dfdc7740",
   "metadata": {},
   "outputs": [
    {
     "name": "stdout",
     "output_type": "stream",
     "text": [
      "read       VERB     VBP    verb, non-3rd person singular present\n"
     ]
    }
   ],
   "source": [
    "print(f'{r.text:{10}} {r.pos_:{8}} {r.tag_:{6}} {spacy.explain(r.tag_)}')"
   ]
  },
  {
   "cell_type": "code",
   "execution_count": 36,
   "id": "d8c188e4",
   "metadata": {},
   "outputs": [],
   "source": [
    "doc = nlp(u'I read a book on NLP.')"
   ]
  },
  {
   "cell_type": "code",
   "execution_count": 37,
   "id": "f4af8d5d",
   "metadata": {},
   "outputs": [],
   "source": [
    "r = doc[1]"
   ]
  },
  {
   "cell_type": "code",
   "execution_count": 38,
   "id": "c2fb9d37",
   "metadata": {},
   "outputs": [
    {
     "name": "stdout",
     "output_type": "stream",
     "text": [
      "read       VERB     VBD    verb, past tense\n"
     ]
    }
   ],
   "source": [
    "print(f'{r.text:{10}} {r.pos_:{8}} {r.tag_:{6}} {spacy.explain(r.tag_)}')"
   ]
  },
  {
   "cell_type": "code",
   "execution_count": 39,
   "id": "acd5a8e4",
   "metadata": {},
   "outputs": [],
   "source": [
    "doc = nlp(u\"The quick brown fox jumped over the lazy dog's back.\")"
   ]
  },
  {
   "cell_type": "code",
   "execution_count": 40,
   "id": "44398be3",
   "metadata": {},
   "outputs": [],
   "source": [
    "pos_count = doc.count_by(spacy.attrs.POS)"
   ]
  },
  {
   "cell_type": "code",
   "execution_count": 41,
   "id": "b304b980",
   "metadata": {},
   "outputs": [
    {
     "data": {
      "text/plain": [
       "{96: 1, 83: 3, 99: 1, 84: 1, 89: 2, 91: 3, 93: 1}"
      ]
     },
     "execution_count": 41,
     "metadata": {},
     "output_type": "execute_result"
    }
   ],
   "source": [
    "pos_count"
   ]
  },
  {
   "cell_type": "code",
   "execution_count": 43,
   "id": "1b94e2d0",
   "metadata": {},
   "outputs": [
    {
     "name": "stdout",
     "output_type": "stream",
     "text": [
      "83. ADJ   3\n",
      "84. ADP   1\n",
      "89. DET   2\n",
      "91. NOUN  3\n",
      "93. PART  1\n",
      "96. PUNCT 1\n",
      "99. VERB  1\n"
     ]
    }
   ],
   "source": [
    "for k,v in sorted(pos_count.items()):\n",
    "    print(f\"{k}. {doc.vocab[k].text:{5}} {v}\")"
   ]
  },
  {
   "cell_type": "code",
   "execution_count": 45,
   "id": "ea833a67",
   "metadata": {},
   "outputs": [
    {
     "name": "stdout",
     "output_type": "stream",
     "text": [
      "96. PUNCT 1\n",
      "83. ADJ   3\n",
      "99. VERB  1\n",
      "84. ADP   1\n",
      "89. DET   2\n",
      "91. NOUN  3\n",
      "93. PART  1\n"
     ]
    }
   ],
   "source": [
    "for k,v in pos_count.items():\n",
    "    print(f\"{k}. {doc.vocab[k].text:{5}} {v}\")"
   ]
  },
  {
   "cell_type": "code",
   "execution_count": 47,
   "id": "a2be2cf5",
   "metadata": {},
   "outputs": [
    {
     "name": "stdout",
     "output_type": "stream",
     "text": [
      "74. POS        1\n",
      "1292078113972184607. IN         1\n",
      "10554686591937588953. JJ         3\n",
      "12646065887601541794. .          1\n",
      "15267657372422890137. DT         2\n",
      "15308085513773655218. NN         3\n",
      "17109001835818727656. VBD        1\n"
     ]
    }
   ],
   "source": [
    "tag_count = doc.count_by(spacy.attrs.TAG)\n",
    "\n",
    "for k,v in sorted(tag_count.items()):\n",
    "    print(f\"{k}. {doc.vocab[k].text:{10}} {v}\")"
   ]
  },
  {
   "cell_type": "code",
   "execution_count": null,
   "id": "ffae350e",
   "metadata": {},
   "outputs": [],
   "source": []
  }
 ],
 "metadata": {
  "kernelspec": {
   "display_name": "Python 3 (ipykernel)",
   "language": "python",
   "name": "python3"
  },
  "language_info": {
   "codemirror_mode": {
    "name": "ipython",
    "version": 3
   },
   "file_extension": ".py",
   "mimetype": "text/x-python",
   "name": "python",
   "nbconvert_exporter": "python",
   "pygments_lexer": "ipython3",
   "version": "3.7.16"
  }
 },
 "nbformat": 4,
 "nbformat_minor": 5
}
